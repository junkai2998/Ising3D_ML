{
 "cells": [
  {
   "cell_type": "code",
   "execution_count": 1,
   "metadata": {},
   "outputs": [],
   "source": [
    "import numpy as np\n",
    "import matplotlib.pyplot as plt"
   ]
  },
  {
   "cell_type": "code",
   "execution_count": 2,
   "metadata": {},
   "outputs": [],
   "source": [
    "def spin_init(L,alinged=False):\n",
    "    if alinged==False:\n",
    "        lattice= np.random.choice((-1,1),size=(L,L,L)).astype(np.int32)\n",
    "\n",
    "    if alinged==True:\n",
    "        lattice=np.ones((L,L,L),dtype=np.int32)\n",
    "    return lattice"
   ]
  },
  {
   "cell_type": "code",
   "execution_count": 3,
   "metadata": {},
   "outputs": [],
   "source": [
    "# calculation of magnetization of the lattice\n",
    "def magnetization(lattice,L):\n",
    "    return np.sum(lattice)"
   ]
  },
  {
   "cell_type": "code",
   "execution_count": 4,
   "metadata": {},
   "outputs": [],
   "source": [
    "def PBC(ind,L):\n",
    "    \"\"\"applies to index+1, to get the first element when index==L-1\"\"\"\n",
    "    if ind == L-1:\n",
    "        return 0\n",
    "    else:\n",
    "        return ind+1"
   ]
  },
  {
   "cell_type": "code",
   "execution_count": 5,
   "metadata": {},
   "outputs": [],
   "source": [
    "def energy_site(lattice,L,i,j,k):\n",
    "    '''\n",
    "    calculation of interaction energy of each spin and total lattice energy\n",
    "    '''\n",
    "    #print ('we selected: ',lattice[i,j,k])\n",
    "    #print (lattice[i-1,j,k] , lattice[PBC(i,L),j,k] , lattice[i,j-1,k] , lattice[i,PBC(j,L),k] , lattice[i,j,k-1] , lattice[i,j,PBC(k,L)]\n",
    "    return lattice[i,j,k]*(lattice[i-1,j,k]+lattice[PBC(i,L),j,k]+lattice[i,j-1,k]+lattice[i,PBC(j,L),k]+lattice[i,j,k-1]+lattice[i,j,PBC(k,L)])"
   ]
  },
  {
   "cell_type": "code",
   "execution_count": 6,
   "metadata": {},
   "outputs": [],
   "source": [
    "def energy_total(lattice,L):\n",
    "    sum=0\n",
    "    for i in range(L):\n",
    "        for j in range(L):\n",
    "            for k in range(L):\n",
    "                sum-=energy_site(lattice,L,i,j,k) # -ve sign due to -J (ferromagnetic) in the hamitonian\n",
    "    \n",
    "    return sum/2 # correct for overcounting due to overlapping"
   ]
  },
  {
   "cell_type": "code",
   "execution_count": 7,
   "metadata": {},
   "outputs": [],
   "source": [
    "# determine if a spin is flipped according to monte-carlo rules\n",
    "def flip(lattice,L,T):\n",
    "    for i in range(L):\n",
    "        for j in range(L):\n",
    "            for k in range(L):\n",
    "                if energy_site(lattice,L,i,j,k)<0:\n",
    "                    lattice[i][j][k]=-lattice[i][j][k]\n",
    "                else:\n",
    "                    if np.e**(-2*energy_site(lattice,L,i,j,k)/T)>np.random.uniform(0,1):\n",
    "                        lattice[i][j][k]=-lattice[i][j][k]"
   ]
  },
  {
   "cell_type": "code",
   "execution_count": 8,
   "metadata": {},
   "outputs": [],
   "source": [
    "# the main calculation routine to calculate the values\n",
    "def main(lattice,L,N_run,T):\n",
    "    M=0\n",
    "    m=0\n",
    "    M_sq=0\n",
    "    E=0\n",
    "    e=0\n",
    "    E_sq=0\n",
    "    \n",
    "    ### stepping only lattice; no data sampling #####\n",
    "    for k in range (N_ss):\n",
    "        flip(lattice,L,T)\n",
    "\n",
    "    count = 0\n",
    "    for k in range (N_ss,N_run):\n",
    "        flip(lattice,L,T)\n",
    "        m=np.sum(lattice) #magnetization(lattice,L)\n",
    "        M+=m\n",
    "        M_sq+=m**2\n",
    "        e=energy_total(lattice,L)\n",
    "        E+=e\n",
    "        E_sq+=e**2\n",
    "\n",
    "        fname = '{:.2f}i{}.npy'.format(round(T,2),count)\n",
    "        np.save(fname,lattice)\n",
    "        count += 1\n",
    "    \n",
    "    M_mean=M/(N_run-N_ss)\n",
    "    M_var=M_sq/(N_run-N_ss)-M_mean**2\n",
    "    E_mean=E/(N_run-N_ss)\n",
    "    E_var=E_sq/(N_run-N_ss)-E_mean**2\n",
    "    C=E_var/T**2/L**3\n",
    "    Chi=M_var/T/L**3\n",
    "\n",
    "    return T,M_mean/L**3,E_mean/L**3,C,Chi # temporary take out lattice, which is global"
   ]
  },
  {
   "cell_type": "code",
   "execution_count": 9,
   "metadata": {},
   "outputs": [],
   "source": [
    "## set your parameters here ##############\n",
    "L=10;          ###=10  for trouble shooting; 50   for production run\n",
    "N_run=10;     ###=100 for trouble shooting; 2000 for production run\n",
    "fracN_ss=0.43   ### = 0.5 default. Must be a fractional number >=0 && < 1.\n",
    "DeltaT=0.1     ###=1.0 for trouble shooting; 0.05 for production run\n",
    "Tini=0.000;Tlast=5.0;  #default: Tini=0.0; Tlast=5.0\n",
    "## end of set your parameters here ##############\n",
    "\n",
    "### initialization ####\n",
    "lattice = spin_init(L,alinged=True)\n",
    "N_ss = int(fracN_ss*N_run);   ### step at which sampling of data begins\n",
    "T_range = np.arange(Tini,Tlast+DeltaT,DeltaT)\n",
    "sample_size = (N_run-N_ss)*T_range.shape[0]\n",
    "ctn = np.zeros((T_range.shape[0],5),dtype=np.float32)\n",
    "Tc = 4.5\n",
    "#######################"
   ]
  },
  {
   "cell_type": "code",
   "execution_count": 10,
   "metadata": {},
   "outputs": [],
   "source": [
    "import os,shutil\n",
    "from time import localtime,mktime,strftime\n",
    "from datetime import timedelta"
   ]
  },
  {
   "cell_type": "code",
   "execution_count": 11,
   "metadata": {},
   "outputs": [],
   "source": [
    "cwd = '/home/junkai/3D_v1.1'\n",
    "os.chdir(cwd)\n",
    "data_dir = os.path.join(cwd,'data' + strftime('%Y%m%d',localtime()))\n",
    "\n",
    "if os.path.isdir(data_dir):\n",
    "    shutil.rmtree(data_dir)\n",
    "    os.mkdir(data_dir)\n",
    "else:\n",
    "    os.mkdir(data_dir)"
   ]
  },
  {
   "cell_type": "code",
   "execution_count": 12,
   "metadata": {},
   "outputs": [],
   "source": [
    "# making train dir\n",
    "train_dir = os.path.join(data_dir,'train')\n",
    "\n",
    "if os.path.isdir(train_dir):\n",
    "    shutil.rmtree(train_dir)\n",
    "    os.mkdir(train_dir)\n",
    "else:\n",
    "    os.mkdir(train_dir)"
   ]
  },
  {
   "cell_type": "code",
   "execution_count": 13,
   "metadata": {},
   "outputs": [
    {
     "name": "stdout",
     "output_type": "stream",
     "text": [
      "====================  Sampling Summary ====================\n",
      "Lattice shape =  (10, 10, 10)\n",
      "Temperature range =  (0.0, 5.0) ,at DeltaT =  0.1\n",
      "total run per temperature=  10\n",
      "runs before sampling =  4\n",
      "sampling runs per temperature =  6\n",
      "total number of temperature batchs =  51\n",
      "total sample size =  306\n",
      "====================  end of Summary  ====================\n",
      "\n",
      "\n"
     ]
    }
   ],
   "source": [
    "# print informations\n",
    "print(20*'=',' Sampling Summary','='*20)\n",
    "print('Lattice shape = ',lattice.shape)\n",
    "print('Temperature range = ',(Tini,Tlast),',at DeltaT = ',DeltaT)\n",
    "print ('total run per temperature= ',N_run)\n",
    "print ('runs before sampling = ',N_ss)\n",
    "print ('sampling runs per temperature = ',N_run-int(fracN_ss*N_run))\n",
    "print ('total number of temperature batchs = ',T_range.shape[0])\n",
    "print ('total sample size = ',sample_size)\n",
    "print(20*'=',' end of Summary ','='*20)\n",
    "print('\\n')"
   ]
  },
  {
   "cell_type": "code",
   "execution_count": 14,
   "metadata": {},
   "outputs": [
    {
     "name": "stdout",
     "output_type": "stream",
     "text": [
      "====================  Sampling in progress  ====================\n",
      "T= 0.0\n"
     ]
    },
    {
     "name": "stderr",
     "output_type": "stream",
     "text": [
      "/share/apps/anaconda3/lib/python3.7/site-packages/ipykernel_launcher.py:9: RuntimeWarning: invalid value encountered in true_divide\n",
      "  if __name__ == '__main__':\n",
      "/share/apps/anaconda3/lib/python3.7/site-packages/ipykernel_launcher.py:9: RuntimeWarning: divide by zero encountered in true_divide\n",
      "  if __name__ == '__main__':\n",
      "/share/apps/anaconda3/lib/python3.7/site-packages/ipykernel_launcher.py:32: RuntimeWarning: divide by zero encountered in double_scalars\n",
      "/share/apps/anaconda3/lib/python3.7/site-packages/ipykernel_launcher.py:33: RuntimeWarning: divide by zero encountered in double_scalars\n"
     ]
    },
    {
     "name": "stdout",
     "output_type": "stream",
     "text": [
      "T= 0.1\n",
      "T= 0.2\n",
      "T= 0.30000000000000004\n",
      "T= 0.4\n",
      "T= 0.5\n",
      "T= 0.6000000000000001\n",
      "T= 0.7000000000000001\n",
      "T= 0.8\n",
      "T= 0.9\n",
      "T= 1.0\n",
      "T= 1.1\n",
      "T= 1.2000000000000002\n",
      "T= 1.3\n",
      "T= 1.4000000000000001\n",
      "T= 1.5\n",
      "T= 1.6\n",
      "T= 1.7000000000000002\n",
      "T= 1.8\n",
      "T= 1.9000000000000001\n",
      "T= 2.0\n",
      "T= 2.1\n",
      "T= 2.2\n",
      "T= 2.3000000000000003\n",
      "T= 2.4000000000000004\n",
      "T= 2.5\n",
      "T= 2.6\n",
      "T= 2.7\n",
      "T= 2.8000000000000003\n",
      "T= 2.9000000000000004\n",
      "T= 3.0\n",
      "T= 3.1\n",
      "T= 3.2\n",
      "T= 3.3000000000000003\n",
      "T= 3.4000000000000004\n",
      "T= 3.5\n",
      "T= 3.6\n",
      "T= 3.7\n",
      "T= 3.8000000000000003\n",
      "T= 3.9000000000000004\n",
      "T= 4.0\n",
      "T= 4.1000000000000005\n",
      "T= 4.2\n",
      "T= 4.3\n",
      "T= 4.4\n",
      "T= 4.5\n",
      "T= 4.6000000000000005\n",
      "T= 4.7\n",
      "T= 4.800000000000001\n",
      "T= 4.9\n",
      "T= 5.0\n",
      "====================  end of Sampling  ====================\n",
      "\n",
      "\n"
     ]
    }
   ],
   "source": [
    "### begin calculation ##########\n",
    "print(20*'=',' Sampling in progress ','='*20)\n",
    "os.chdir(train_dir)\n",
    "\n",
    "batch = 0\n",
    "for T in T_range:\n",
    "    print(\"T =\",T)\n",
    "    ctn[batch][0],ctn[batch][1],ctn[batch][2],ctn[batch][3],ctn[batch][4]=main(lattice,L,N_run,T)\n",
    "    batch +=1\n",
    "\n",
    "print(20*'=',' end of Sampling ','='*20)\n",
    "print('\\n')"
   ]
  },
  {
   "cell_type": "markdown",
   "metadata": {},
   "source": [
    "# generate file list"
   ]
  },
  {
   "cell_type": "code",
   "execution_count": 15,
   "metadata": {},
   "outputs": [],
   "source": [
    "os.chdir(data_dir)\n",
    "\n",
    "file_list = []\n",
    "for root,dirs,files in os.walk(train_dir):\n",
    "    for file in files:\n",
    "        file_list.append(file)\n",
    "        \n",
    "#print(len(file_list))"
   ]
  },
  {
   "cell_type": "code",
   "execution_count": 16,
   "metadata": {},
   "outputs": [],
   "source": [
    "labels_temp = []\n",
    "for i in file_list:\n",
    "    ans = float(i.split('i')[0])\n",
    "    labels_temp.append(ans)\n",
    "    \n",
    "len(labels_temp)\n",
    "labels_temp = np.asarray(labels_temp)"
   ]
  },
  {
   "cell_type": "code",
   "execution_count": 17,
   "metadata": {},
   "outputs": [],
   "source": [
    "labels = np.zeros_like(labels_temp)\n",
    "Tc = 2.269\n",
    "for i in range(labels_temp.shape[0]):\n",
    "    if labels_temp[i] < Tc:\n",
    "        labels[i] = 1\n",
    "    if labels_temp[i] > Tc:\n",
    "        labels[i] = 0"
   ]
  },
  {
   "cell_type": "code",
   "execution_count": 18,
   "metadata": {},
   "outputs": [
    {
     "name": "stdout",
     "output_type": "stream",
     "text": [
      "====================  Building train datasets  ====================\n",
      "dataset saved as:  /home/junkai/3D_v1.1/data20200813/train_dataset.npz\n",
      "with labels:  ['x_train', 'x_test', 'y_train', 'y_test']\n",
      "shape of x_train:  (153,)\n",
      "shape of y_train:  (153,)\n",
      "test split:  0.5\n",
      "note: x is a list of referenced data filenames. \n",
      "For training, please build pipeline that take referenced files into the NN.\n",
      "\n",
      "run data saved as /home/junkai/3D_v1.1/data20200813/run_data.txt \n",
      "\n",
      "====================  end of train dataset preparation  ====================\n",
      "\n",
      "\n"
     ]
    }
   ],
   "source": [
    "print(20*'=',' Building train datasets ','='*20)\n",
    "\n",
    "from sklearn.model_selection import train_test_split\n",
    "test_size = 0.5\n",
    "x_train, x_test, y_train, y_test = train_test_split(file_list, labels, test_size=test_size, random_state=42)\n",
    "\n",
    "fname = os.path.join(data_dir,'train_dataset.npz')\n",
    "np.savez(fname , x_train=x_train,x_test=x_test,y_train=y_train,y_test=y_test)\n",
    "print('dataset saved as: ', fname)\n",
    "print('with labels: ',np.load(fname).files)\n",
    "print('shape of x_train: ',np.shape(x_train))\n",
    "print('shape of y_train: ',np.shape(y_train))\n",
    "print('test split: ', test_size)\n",
    "print('note: x is a list of referenced data filenames. \\nFor training, please build pipeline that take referenced files into the NN.\\n')\n",
    "\n",
    "fname = os.path.join(data_dir,'run_data.txt')\n",
    "np.savetxt(fname,ctn,delimiter=' ',header='L='+str(L)+' N_run='+str(N_run)+'; T M E C Chi')\n",
    "\n",
    "print('run data saved as {} \\n'.format(fname))\n",
    "print(20*'=',' end of train dataset preparation ','='*20)\n",
    "print('\\n')"
   ]
  },
  {
   "cell_type": "markdown",
   "metadata": {},
   "source": [
    "# visualization"
   ]
  },
  {
   "cell_type": "code",
   "execution_count": 19,
   "metadata": {},
   "outputs": [
    {
     "data": {
      "image/png": "[encoded data removed]",
      "text/plain": [
       "<Figure size 720x720 with 4 Axes>"
      ]
     },
     "metadata": {
      "needs_background": "light"
     },
     "output_type": "display_data"
    }
   ],
   "source": [
    "# visualization\n",
    "T=np.ndarray.flatten(np.hsplit(ctn,5)[0])\n",
    "M=np.ndarray.flatten(np.hsplit(ctn,5)[1])\n",
    "E=np.ndarray.flatten(np.hsplit(ctn,5)[2])\n",
    "C=np.ndarray.flatten(np.hsplit(ctn,5)[3])\n",
    "Chi=np.ndarray.flatten(np.hsplit(ctn,5)[4])\n",
    "### end of post processing output\n",
    "\n",
    "### visualisation\n",
    "fig=plt.figure(figsize=(10,10))\n",
    "ax1=plt.subplot(2,2,1)\n",
    "ax1.plot(T,M,'.-')\n",
    "ax1.set_title(\"M vs T\")\n",
    "ax1.set_xlabel(\"T\")\n",
    "ax1.set_ylabel(\"M\")\n",
    "\n",
    "ax2=plt.subplot(2,2,2)\n",
    "ax2.plot(T,E,'.-r')\n",
    "ax2.set_title(\"E vs T\")\n",
    "ax2.set_xlabel(\"T\")\n",
    "ax2.set_ylabel(\"E\")        \n",
    "\n",
    "ax3=plt.subplot(2,2,3)\n",
    "ax3.plot(T,C,'.-r')\n",
    "ax3.set_title(\"C vs T\")\n",
    "ax3.set_xlabel(\"T\")\n",
    "ax3.set_ylabel(\"C\")        \n",
    "\n",
    "ax3=plt.subplot(2,2,4)\n",
    "ax3.plot(T,Chi,'.-r')\n",
    "ax3.set_title(\"Chi vs T\")\n",
    "ax3.set_xlabel(\"T\")\n",
    "ax3.set_ylabel(\"Chi\") \n",
    "\n",
    "plt.show()"
   ]
  },
  {
   "cell_type": "markdown",
   "metadata": {},
   "source": [
    "# under test !!!"
   ]
  },
  {
   "cell_type": "code",
   "execution_count": null,
   "metadata": {},
   "outputs": [],
   "source": [
    "# record time elapsed\n",
    "startime = localtime()\n",
    "\n",
    "# when the programm runs\n",
    "\n",
    "endtime = localtime()\n",
    "duration = str(timedelta(seconds=mktime(endtime) - mktime(startime)))\n",
    "print('code started on :',strftime('%x %X',startime),'\\ncode ended on :',strftime('%x %X',endtime),'\\ntime elapsed :',duration)"
   ]
  },
  {
   "cell_type": "code",
   "execution_count": 1,
   "metadata": {},
   "outputs": [
    {
     "name": "stdout",
     "output_type": "stream",
     "text": [
      "60500 6.00i499.npy\n"
     ]
    }
   ],
   "source": [
    "# check run status\n",
    "import os\n",
    "cwd = '/home/junkai/3D_v1.1/data20200814'\n",
    "\n",
    "'''count = 0\n",
    "for i,j,files in os.walk(cwd):\n",
    "    for file in files:\n",
    "        count+=1\n",
    "\n",
    "print(count)'''\n",
    "\n",
    "files = [i for i in os.walk(cwd)][1][2]\n",
    "print(len(files),files[-1])"
   ]
  },
  {
   "cell_type": "code",
   "execution_count": null,
   "metadata": {},
   "outputs": [],
   "source": []
  }
 ],
 "metadata": {
  "kernelspec": {
   "display_name": "Python 3",
   "language": "python",
   "name": "python3"
  },
  "language_info": {
   "codemirror_mode": {
    "name": "ipython",
    "version": 3
   },
   "file_extension": ".py",
   "mimetype": "text/x-python",
   "name": "python",
   "nbconvert_exporter": "python",
   "pygments_lexer": "ipython3",
   "version": "3.7.6"
  }
 },
 "nbformat": 4,
 "nbformat_minor": 4
}

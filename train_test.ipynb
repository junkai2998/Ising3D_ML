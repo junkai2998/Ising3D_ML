{
 "cells": [
  {
   "cell_type": "code",
   "execution_count": 2,
   "metadata": {},
   "outputs": [
    {
     "name": "stdout",
     "output_type": "stream",
     "text": [
      "tf.__version__= 2.2.0\n"
     ]
    }
   ],
   "source": [
    "import numpy as np\n",
    "import matplotlib.pyplot as plt\n",
    "import tensorflow as tf\n",
    "from tensorflow import keras\n",
    "import os\n",
    "print('tf.__version__=',tf.__version__)"
   ]
  },
  {
   "cell_type": "code",
   "execution_count": 3,
   "metadata": {},
   "outputs": [
    {
     "name": "stdout",
     "output_type": "stream",
     "text": [
      "dataset loaded with labels:  ['x_train', 'x_test', 'y_train', 'y_test']\n"
     ]
    }
   ],
   "source": [
    "fname = '/home/junkai/3D_v1.1/data20200813/train_dataset.npz'\n",
    "\n",
    "train_datasets = np.load(fname)\n",
    "print('dataset loaded with labels: ',train_datasets.files)\n",
    "x_train, x_test, y_train, y_test = [train_datasets[i] for i in train_datasets.files]"
   ]
  },
  {
   "cell_type": "code",
   "execution_count": 4,
   "metadata": {},
   "outputs": [],
   "source": [
    "class data_generator (keras.utils.Sequence):\n",
    "    '''\n",
    "    Data generator class from keras.ultils.Sequence.\n",
    "    Load data from a file that contains the filenames in the path.\n",
    "    usage:\n",
    "    path: Path to the directory containing the data files\n",
    "    fname_list: Dataset that containing filenames in the specified path\n",
    "    labels: Labels associated with the loaded train data\n",
    "    '''\n",
    "    def __init__(self,path,fname_list,labels,batch_size,):\n",
    "        self.path = path\n",
    "        self.fname_list = fname_list\n",
    "        self.labels = labels\n",
    "        self.batch_size = batch_size\n",
    "        print('generator for {} files of {} batches of size {}'.format(len(fname_list),self.__len__(),self.batch_size))\n",
    "\n",
    "    \n",
    "    def __len__(self):\n",
    "        return (np.ceil(len(self.fname_list) / float(self.batch_size))).astype(np.int)\n",
    "\n",
    "\n",
    "    def __getitem__ (self,idx):\n",
    "        batch_x = self.fname_list [idx * self.batch_size : (idx+1) * self.batch_size]\n",
    "        batch_y = self.labels [idx * self.batch_size : (idx+1) * self.batch_size]\n",
    "\n",
    "        return np.array([np.load(self.path+file) for file in batch_x]),batch_y"
   ]
  },
  {
   "cell_type": "code",
   "execution_count": 5,
   "metadata": {},
   "outputs": [
    {
     "name": "stdout",
     "output_type": "stream",
     "text": [
      "generator for 1252 files of 1252 batches of size 1\n",
      "generator for 1253 files of 1253 batches of size 1\n"
     ]
    }
   ],
   "source": [
    "path = '/home/junkai/3D_v1.1/data20200813/train/'\n",
    "batch_size = 1\n",
    "\n",
    "train_generator = data_generator(path,x_train,y_train,batch_size)\n",
    "validation_generator = data_generator(path,x_test,y_test,batch_size)"
   ]
  },
  {
   "cell_type": "code",
   "execution_count": 6,
   "metadata": {},
   "outputs": [
    {
     "name": "stdout",
     "output_type": "stream",
     "text": [
      "Model: \"sequential\"\n",
      "_________________________________________________________________\n",
      "Layer (type)                 Output Shape              Param #   \n",
      "=================================================================\n",
      "flatten (Flatten)            (None, 1000)              0         \n",
      "_________________________________________________________________\n",
      "dense (Dense)                (None, 10)                10010     \n",
      "_________________________________________________________________\n",
      "dropout (Dropout)            (None, 10)                0         \n",
      "_________________________________________________________________\n",
      "dense_1 (Dense)              (None, 1)                 11        \n",
      "=================================================================\n",
      "Total params: 10,021\n",
      "Trainable params: 10,021\n",
      "Non-trainable params: 0\n",
      "_________________________________________________________________\n"
     ]
    }
   ],
   "source": [
    "input_shape = [i for i in train_generator[0]][0][0].shape\n",
    "\n",
    "model = keras.Sequential([\n",
    "    keras.layers.Flatten(input_shape=input_shape),\n",
    "    keras.layers.Dense(10, activation='sigmoid'),\n",
    "    keras.layers.Dropout(0.2),\n",
    "    keras.layers.Dense(1, activation='sigmoid')\n",
    "])\n",
    "model.summary(line_length=None, positions=None, print_fn=None)"
   ]
  },
  {
   "cell_type": "code",
   "execution_count": 7,
   "metadata": {},
   "outputs": [],
   "source": [
    "model.compile(optimizer='rmsprop',\n",
    "              loss=tf.keras.losses.BinaryCrossentropy(from_logits=True),\n",
    "              metrics=['accuracy'])"
   ]
  },
  {
   "cell_type": "code",
   "execution_count": 8,
   "metadata": {},
   "outputs": [
    {
     "name": "stdout",
     "output_type": "stream",
     "text": [
      "Epoch 1/20\n",
      "1252/1252 [==============================] - 5s 4ms/step - loss: 0.6851 - accuracy: 0.6629 - val_loss: 0.6664 - val_accuracy: 0.6736\n",
      "Epoch 2/20\n",
      "1252/1252 [==============================] - 2s 2ms/step - loss: 0.6543 - accuracy: 0.6957 - val_loss: 0.6562 - val_accuracy: 0.6760\n",
      "Epoch 3/20\n",
      "1252/1252 [==============================] - 2s 2ms/step - loss: 0.6435 - accuracy: 0.7005 - val_loss: 0.6533 - val_accuracy: 0.6744\n",
      "Epoch 4/20\n",
      "1252/1252 [==============================] - 2s 2ms/step - loss: 0.6392 - accuracy: 0.7053 - val_loss: 0.6519 - val_accuracy: 0.6760\n",
      "Epoch 5/20\n",
      "1252/1252 [==============================] - 2s 2ms/step - loss: 0.6371 - accuracy: 0.7077 - val_loss: 0.6523 - val_accuracy: 0.6720\n",
      "Epoch 6/20\n",
      "1252/1252 [==============================] - 2s 2ms/step - loss: 0.6355 - accuracy: 0.7077 - val_loss: 0.6520 - val_accuracy: 0.6720\n",
      "Epoch 7/20\n",
      "1252/1252 [==============================] - 2s 2ms/step - loss: 0.6339 - accuracy: 0.7093 - val_loss: 0.6524 - val_accuracy: 0.6728\n",
      "Epoch 8/20\n",
      "1252/1252 [==============================] - 2s 2ms/step - loss: 0.6333 - accuracy: 0.7101 - val_loss: 0.6527 - val_accuracy: 0.6720\n",
      "Epoch 9/20\n",
      "1252/1252 [==============================] - 2s 2ms/step - loss: 0.6328 - accuracy: 0.7101 - val_loss: 0.6530 - val_accuracy: 0.6704\n",
      "Epoch 10/20\n",
      "1252/1252 [==============================] - 2s 2ms/step - loss: 0.6328 - accuracy: 0.7101 - val_loss: 0.6532 - val_accuracy: 0.6712\n",
      "Epoch 11/20\n",
      "1252/1252 [==============================] - 2s 2ms/step - loss: 0.6330 - accuracy: 0.7101 - val_loss: 0.6533 - val_accuracy: 0.6696\n",
      "Epoch 12/20\n",
      "1252/1252 [==============================] - 2s 2ms/step - loss: 0.6331 - accuracy: 0.7101 - val_loss: 0.6536 - val_accuracy: 0.6696\n",
      "Epoch 13/20\n",
      "1252/1252 [==============================] - 2s 2ms/step - loss: 0.6318 - accuracy: 0.7117 - val_loss: 0.6539 - val_accuracy: 0.6688\n",
      "Epoch 14/20\n",
      "1252/1252 [==============================] - 2s 2ms/step - loss: 0.6328 - accuracy: 0.7109 - val_loss: 0.6541 - val_accuracy: 0.6688\n",
      "Epoch 15/20\n",
      "1252/1252 [==============================] - 2s 2ms/step - loss: 0.6323 - accuracy: 0.7109 - val_loss: 0.6539 - val_accuracy: 0.6696\n",
      "Epoch 16/20\n",
      "1252/1252 [==============================] - 2s 2ms/step - loss: 0.6327 - accuracy: 0.7101 - val_loss: 0.6537 - val_accuracy: 0.6704\n",
      "Epoch 17/20\n",
      "1252/1252 [==============================] - 2s 2ms/step - loss: 0.6323 - accuracy: 0.7109 - val_loss: 0.6534 - val_accuracy: 0.6704\n",
      "Epoch 18/20\n",
      "1252/1252 [==============================] - 2s 2ms/step - loss: 0.6324 - accuracy: 0.7101 - val_loss: 0.6537 - val_accuracy: 0.6712\n",
      "Epoch 19/20\n",
      "1252/1252 [==============================] - 2s 2ms/step - loss: 0.6319 - accuracy: 0.7109 - val_loss: 0.6536 - val_accuracy: 0.6712\n",
      "Epoch 20/20\n",
      "1252/1252 [==============================] - 2s 2ms/step - loss: 0.6319 - accuracy: 0.7117 - val_loss: 0.6531 - val_accuracy: 0.6720\n"
     ]
    }
   ],
   "source": [
    "history = model.fit(train_generator,\n",
    "                   steps_per_epoch = train_generator.__len__(),\n",
    "                   epochs = 20,\n",
    "                   verbose = 1,\n",
    "                   validation_data = validation_generator,\n",
    "                   validation_steps = validation_generator.__len__())"
   ]
  },
  {
   "cell_type": "code",
   "execution_count": 16,
   "metadata": {},
   "outputs": [
    {
     "data": {
      "image/png": "[encoded data removed]",
      "text/plain": [
       "<Figure size 432x288 with 1 Axes>"
      ]
     },
     "metadata": {
      "needs_background": "light"
     },
     "output_type": "display_data"
    },
    {
     "data": {
      "image/png": "[encoded data removed]",
      "text/plain": [
       "<Figure size 432x288 with 1 Axes>"
      ]
     },
     "metadata": {
      "needs_background": "light"
     },
     "output_type": "display_data"
    }
   ],
   "source": [
    "acc = history.history['accuracy']\n",
    "val_acc = history.history['val_accuracy']\n",
    "loss = history.history['loss']\n",
    "val_loss = history.history['val_loss']\n",
    "\n",
    "epochs = range(1,len(acc)+1)\n",
    "\n",
    "plt.plot(epochs,acc, 'bo',label='training acc')\n",
    "plt.plot(epochs,val_acc,'b',label='validation acc')\n",
    "plt.title('training and validation accuracy')\n",
    "plt.legend()\n",
    "\n",
    "plt.figure()\n",
    "plt.plot(epochs,loss, 'bo',label='training loss')\n",
    "plt.plot(epochs,val_loss,'b',label='validation loss')\n",
    "plt.title('training and validation loss')\n",
    "plt.legend()\n",
    "\n",
    "plt.show()"
   ]
  },
  {
   "cell_type": "code",
   "execution_count": 10,
   "metadata": {},
   "outputs": [],
   "source": [
    "fname = '/home/junkai/3D_v1.1/data20200814/model.h5'\n",
    "\n",
    "model.save(fname)"
   ]
  },
  {
   "cell_type": "code",
   "execution_count": null,
   "metadata": {},
   "outputs": [],
   "source": []
  }
 ],
 "metadata": {
  "kernelspec": {
   "display_name": "Python 3",
   "language": "python",
   "name": "python3"
  },
  "language_info": {
   "codemirror_mode": {
    "name": "ipython",
    "version": 3
   },
   "file_extension": ".py",
   "mimetype": "text/x-python",
   "name": "python",
   "nbconvert_exporter": "python",
   "pygments_lexer": "ipython3",
   "version": "3.7.6"
  }
 },
 "nbformat": 4,
 "nbformat_minor": 4
}

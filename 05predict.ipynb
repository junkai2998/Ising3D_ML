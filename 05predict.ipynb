{
 "cells": [
  {
   "cell_type": "code",
   "execution_count": 1,
   "metadata": {},
   "outputs": [
    {
     "name": "stdout",
     "output_type": "stream",
     "text": [
      "2.2.0\n"
     ]
    }
   ],
   "source": [
    "### Evaluates the trained model using a set of fresh data in data_to_verify/ ####\n",
    "\n",
    "import tensorflow as tf\n",
    "import numpy as np\n",
    "print(tf.__version__)"
   ]
  },
  {
   "cell_type": "code",
   "execution_count": 2,
   "metadata": {},
   "outputs": [],
   "source": [
    "model = tf.keras.models.load_model(\"20200815model.h5\")"
   ]
  },
  {
   "cell_type": "code",
   "execution_count": 3,
   "metadata": {},
   "outputs": [],
   "source": [
    "train_datasets = np.load('/home/junkai/3D_v1.0/202008150856test_dataset.npz')\n",
    "X = train_datasets[train_datasets.files[0]]\n",
    "T = train_datasets[train_datasets.files[1]]"
   ]
  },
  {
   "cell_type": "code",
   "execution_count": 4,
   "metadata": {},
   "outputs": [
    {
     "data": {
      "text/plain": [
       "(60500,)"
      ]
     },
     "execution_count": 4,
     "metadata": {},
     "output_type": "execute_result"
    }
   ],
   "source": [
    "ypred = model.predict(X)\n",
    "probability = ypred.flatten()\n",
    "T.shape\n",
    "probability.shape"
   ]
  },
  {
   "cell_type": "code",
   "execution_count": 5,
   "metadata": {},
   "outputs": [
    {
     "data": {
      "text/plain": [
       "[<matplotlib.lines.Line2D at 0x7f1814501950>]"
      ]
     },
     "execution_count": 5,
     "metadata": {},
     "output_type": "execute_result"
    },
    {
     "data": {
      "image/png": "[encoded data removed]",
      "text/plain": [
       "<Figure size 432x288 with 1 Axes>"
      ]
     },
     "metadata": {
      "needs_background": "light"
     },
     "output_type": "display_data"
    }
   ],
   "source": [
    "import matplotlib.pyplot as plt\n",
    "plt.plot(T, probability)"
   ]
  },
  {
   "cell_type": "code",
   "execution_count": 6,
   "metadata": {},
   "outputs": [],
   "source": [
    "smoothed_prob =[]\n",
    "for i in range(len(probability))[::500]:\n",
    "    ans=np.sum(probability[i:i+500])/500\n",
    "    smoothed_prob.append(ans)\n",
    "\n",
    "Tini=0.0\n",
    "Tlast=6.0\n",
    "T = np.linspace(Tini,Tlast,len(smoothed_prob))"
   ]
  },
  {
   "cell_type": "code",
   "execution_count": 7,
   "metadata": {},
   "outputs": [
    {
     "data": {
      "text/plain": [
       "<matplotlib.legend.Legend at 0x7f17e444d810>"
      ]
     },
     "execution_count": 7,
     "metadata": {},
     "output_type": "execute_result"
    },
    {
     "data": {
      "image/png": "[encoded data removed]",
      "text/plain": [
       "<Figure size 432x288 with 1 Axes>"
      ]
     },
     "metadata": {
      "needs_background": "light"
     },
     "output_type": "display_data"
    }
   ],
   "source": [
    "plt.plot(T, smoothed_prob, '-o',label='probability')\n",
    "plt.legend()"
   ]
  },
  {
   "cell_type": "markdown",
   "metadata": {},
   "source": [
    "# check codes"
   ]
  },
  {
   "cell_type": "code",
   "execution_count": 100,
   "metadata": {},
   "outputs": [
    {
     "name": "stdout",
     "output_type": "stream",
     "text": [
      "2.1.0\n"
     ]
    }
   ],
   "source": [
    "### Evaluates the trained model using a set of fresh data in data_to_verify/ ####\n",
    "\n",
    "import tensorflow as tf\n",
    "import numpy as np\n",
    "print(tf.__version__)\n",
    "model = tf.keras.models.load_model(\"saved_model/2DIsing\")"
   ]
  },
  {
   "cell_type": "code",
   "execution_count": 101,
   "metadata": {},
   "outputs": [
    {
     "data": {
      "text/plain": [
       "array([0.000e+00, 1.000e-01, 2.000e-01, ..., 2.547e+02, 2.548e+02,\n",
       "       2.549e+02])"
      ]
     },
     "execution_count": 101,
     "metadata": {},
     "output_type": "execute_result"
    }
   ],
   "source": [
    "import os\n",
    "list1 = os.listdir(\"data_to_verify/\")\n",
    "yres = []\n",
    "\n",
    "for i in range(len(list1)):\n",
    "    if i == 0:\n",
    "        xres = np.loadtxt(\"data_to_verify/\" + list1[i])\n",
    "    elif i == 1:\n",
    "        xtemp = np.loadtxt(\"data_to_verify/\" + list1[i])\n",
    "        xres = np.vstack(([xres] , [xtemp]))\n",
    "    else:\n",
    "        xtemp = np.loadtxt(\"data_to_verify/\" + list1[i])\n",
    "        xres = np.vstack((xres , [xtemp]))\n",
    "    yres.append(i/10)\n",
    "\n",
    "xres = (xres+1)/2\n",
    "np.array(yres)"
   ]
  },
  {
   "cell_type": "code",
   "execution_count": 105,
   "metadata": {},
   "outputs": [],
   "source": [
    "ypred = model.predict(xres)\n",
    "\n",
    "smooth_para_prob =[]\n",
    "for i in range(len(ypred))[::50]:\n",
    "    ans=np.sum(ypred[i:i+50,0])/50\n",
    "    smooth_para_prob.append(ans)\n",
    "\n",
    "smooth_ferro_prob =[]\n",
    "for i in range(len(ypred))[::50]:\n",
    "    ans=np.sum(ypred[i:i+50,1])/50\n",
    "    smooth_ferro_prob.append(ans)    \n",
    "\n",
    "Tini=0.0\n",
    "Tlast=5.0\n",
    "T = np.linspace(Tini,Tlast,len(smooth_ferro_prob))"
   ]
  },
  {
   "cell_type": "code",
   "execution_count": 106,
   "metadata": {},
   "outputs": [
    {
     "data": {
      "text/plain": [
       "<matplotlib.legend.Legend at 0x381cb5d688>"
      ]
     },
     "execution_count": 106,
     "metadata": {},
     "output_type": "execute_result"
    },
    {
     "data": {
      "image/png": "[encoded data removed]",
      "text/plain": [
       "<Figure size 432x288 with 1 Axes>"
      ]
     },
     "metadata": {
      "needs_background": "light"
     },
     "output_type": "display_data"
    }
   ],
   "source": [
    "plt.plot(T, smooth_para_prob, '-o',label='paramagnetic probability')\n",
    "plt.plot(T, smooth_ferro_prob, '-o',label='ferromagnetic probability')\n",
    "plt.legend()"
   ]
  },
  {
   "cell_type": "code",
   "execution_count": 108,
   "metadata": {},
   "outputs": [
    {
     "name": "stdout",
     "output_type": "stream",
     "text": [
      "(2550, 10, 10) 2550\n"
     ]
    }
   ],
   "source": [
    "print(xres.shape,len(yres))"
   ]
  },
  {
   "cell_type": "code",
   "execution_count": 109,
   "metadata": {},
   "outputs": [
    {
     "data": {
      "text/plain": [
       "array([[0.9897468 , 0.01025316],\n",
       "       [0.9897468 , 0.01025316],\n",
       "       [0.9897468 , 0.01025316],\n",
       "       ...,\n",
       "       [0.9924223 , 0.00757768],\n",
       "       [0.99057627, 0.00942371],\n",
       "       [0.99262756, 0.00737252]], dtype=float32)"
      ]
     },
     "execution_count": 109,
     "metadata": {},
     "output_type": "execute_result"
    }
   ],
   "source": [
    "ypred = model.predict(xres)\n",
    "ypred"
   ]
  },
  {
   "cell_type": "code",
   "execution_count": 116,
   "metadata": {},
   "outputs": [
    {
     "data": {
      "text/plain": [
       "array([1.000e+00, 2.000e-01, 3.000e-01, ..., 2.548e+02, 2.549e+02,\n",
       "       2.550e+02])"
      ]
     },
     "execution_count": 116,
     "metadata": {},
     "output_type": "execute_result"
    }
   ],
   "source": [
    "import os\n",
    "list1 = os.listdir(\"data_to_verify/\")\n",
    "yres = []\n",
    "\n",
    "xres = np.loadtxt(\"data_to_verify/\" + list1[0])\n",
    "count=1\n",
    "yres.append(count)\n",
    "\n",
    "for i in list1[1:]:\n",
    "    count+=1\n",
    "    np.concatenate((xres,np.loadtxt(\"data_to_verify/\" + i)))\n",
    "    yres.append(count/10)\n",
    "\n",
    "xres = (xres+1)/2\n",
    "np.array(yres)"
   ]
  },
  {
   "cell_type": "code",
   "execution_count": 117,
   "metadata": {},
   "outputs": [
    {
     "data": {
      "text/plain": [
       "[<matplotlib.lines.Line2D at 0x381ce33dc8>]"
      ]
     },
     "execution_count": 117,
     "metadata": {},
     "output_type": "execute_result"
    },
    {
     "data": {
      "image/png": "[encoded data removed]",
      "text/plain": [
       "<Figure size 432x288 with 1 Axes>"
      ]
     },
     "metadata": {
      "needs_background": "light"
     },
     "output_type": "display_data"
    }
   ],
   "source": [
    "import matplotlib.pyplot as plt\n",
    "plt.plot(yres[1:-1], ypred[:,0][1:-1], '-o')\n",
    "plt.plot(yres[1:-1], ypred[:,1][1:-1], '-o')"
   ]
  },
  {
   "cell_type": "code",
   "execution_count": null,
   "metadata": {},
   "outputs": [],
   "source": []
  },
  {
   "cell_type": "code",
   "execution_count": null,
   "metadata": {},
   "outputs": [],
   "source": []
  }
 ],
 "metadata": {
  "kernelspec": {
   "display_name": "Python 3",
   "language": "python",
   "name": "python3"
  },
  "language_info": {
   "codemirror_mode": {
    "name": "ipython",
    "version": 3
   },
   "file_extension": ".py",
   "mimetype": "text/x-python",
   "name": "python",
   "nbconvert_exporter": "python",
   "pygments_lexer": "ipython3",
   "version": "3.7.6"
  }
 },
 "nbformat": 4,
 "nbformat_minor": 4
}

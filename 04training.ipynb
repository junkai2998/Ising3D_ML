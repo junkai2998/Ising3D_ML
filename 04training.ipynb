{
 "cells": [
  {
   "cell_type": "code",
   "execution_count": 1,
   "metadata": {},
   "outputs": [
    {
     "name": "stdout",
     "output_type": "stream",
     "text": [
      "tf.__version__= 2.2.0\n"
     ]
    }
   ],
   "source": [
    "import numpy as np\n",
    "import matplotlib.pyplot as plt\n",
    "import tensorflow as tf\n",
    "from tensorflow import keras\n",
    "print('tf.__version__=',tf.__version__)"
   ]
  },
  {
   "cell_type": "code",
   "execution_count": 2,
   "metadata": {},
   "outputs": [],
   "source": [
    "train_datasets = np.load('/home/junkai/3D_v1.0/202008092123train_dataset.npz')\n",
    "X = train_datasets[train_datasets.files[0]]\n",
    "Y = train_datasets[train_datasets.files[1]]"
   ]
  },
  {
   "cell_type": "code",
   "execution_count": 3,
   "metadata": {},
   "outputs": [
    {
     "name": "stdout",
     "output_type": "stream",
     "text": [
      "(288480, 10, 10, 10)\n",
      "(72120, 10, 10, 10)\n"
     ]
    }
   ],
   "source": [
    "from sklearn.model_selection import train_test_split\n",
    "test_size=0.2\n",
    "x_train, x_test, y_train, y_test = train_test_split(X, Y, test_size=test_size, random_state=42)\n",
    "print(np.shape(x_train))\n",
    "print(np.shape(x_test))"
   ]
  },
  {
   "cell_type": "code",
   "execution_count": 4,
   "metadata": {},
   "outputs": [],
   "source": [
    "img_x, img_y ,img_z = X.shape[1], X.shape[2],X.shape[3]\n",
    "model = keras.Sequential([\n",
    "    keras.layers.Flatten(input_shape=(img_x, img_y ,img_z)),\n",
    "    keras.layers.Dense(10, activation='sigmoid'),\n",
    "    keras.layers.Dropout(0.2),\n",
    "    keras.layers.Dense(1, activation='sigmoid')\n",
    "])"
   ]
  },
  {
   "cell_type": "code",
   "execution_count": 5,
   "metadata": {},
   "outputs": [
    {
     "name": "stdout",
     "output_type": "stream",
     "text": [
      "Model: \"sequential\"\n",
      "_________________________________________________________________\n",
      "Layer (type)                 Output Shape              Param #   \n",
      "=================================================================\n",
      "flatten (Flatten)            (None, 1000)              0         \n",
      "_________________________________________________________________\n",
      "dense (Dense)                (None, 10)                10010     \n",
      "_________________________________________________________________\n",
      "dropout (Dropout)            (None, 10)                0         \n",
      "_________________________________________________________________\n",
      "dense_1 (Dense)              (None, 1)                 11        \n",
      "=================================================================\n",
      "Total params: 10,021\n",
      "Trainable params: 10,021\n",
      "Non-trainable params: 0\n",
      "_________________________________________________________________\n"
     ]
    }
   ],
   "source": [
    "model.summary(line_length=None, positions=None, print_fn=None)"
   ]
  },
  {
   "cell_type": "code",
   "execution_count": 6,
   "metadata": {},
   "outputs": [],
   "source": [
    "model.compile(optimizer='rmsprop',\n",
    "              loss=tf.keras.losses.BinaryCrossentropy(from_logits=True),\n",
    "              metrics=['accuracy'])\n",
    "#SparseCategoricalCrossentropy(#from_logits=True)"
   ]
  },
  {
   "cell_type": "code",
   "execution_count": 7,
   "metadata": {},
   "outputs": [
    {
     "name": "stdout",
     "output_type": "stream",
     "text": [
      "Epoch 1/20\n",
      "9015/9015 [==============================] - 17s 2ms/step - loss: 0.6077 - accuracy: 0.6775 - val_loss: 0.5992 - val_accuracy: 0.6909\n",
      "Epoch 2/20\n",
      "9015/9015 [==============================] - 17s 2ms/step - loss: 0.5968 - accuracy: 0.6814 - val_loss: 0.5882 - val_accuracy: 0.6915\n",
      "Epoch 3/20\n",
      "9015/9015 [==============================] - 17s 2ms/step - loss: 0.5937 - accuracy: 0.6841 - val_loss: 0.5922 - val_accuracy: 0.6911\n",
      "Epoch 4/20\n",
      "9015/9015 [==============================] - 17s 2ms/step - loss: 0.5912 - accuracy: 0.6839 - val_loss: 0.5851 - val_accuracy: 0.6925\n",
      "Epoch 5/20\n",
      "9015/9015 [==============================] - 17s 2ms/step - loss: 0.5892 - accuracy: 0.6857 - val_loss: 0.5864 - val_accuracy: 0.6925\n",
      "Epoch 6/20\n",
      "9015/9015 [==============================] - 17s 2ms/step - loss: 0.5883 - accuracy: 0.6864 - val_loss: 0.5869 - val_accuracy: 0.6928\n",
      "Epoch 7/20\n",
      "9015/9015 [==============================] - 17s 2ms/step - loss: 0.5869 - accuracy: 0.6870 - val_loss: 0.5782 - val_accuracy: 0.6941\n",
      "Epoch 8/20\n",
      "9015/9015 [==============================] - 17s 2ms/step - loss: 0.5856 - accuracy: 0.6882 - val_loss: 0.5854 - val_accuracy: 0.6924\n",
      "Epoch 9/20\n",
      "9015/9015 [==============================] - 17s 2ms/step - loss: 0.5854 - accuracy: 0.6871 - val_loss: 0.5790 - val_accuracy: 0.6926\n",
      "Epoch 10/20\n",
      "9015/9015 [==============================] - 17s 2ms/step - loss: 0.5835 - accuracy: 0.6911 - val_loss: 0.5863 - val_accuracy: 0.6923\n",
      "Epoch 11/20\n",
      "9015/9015 [==============================] - 17s 2ms/step - loss: 0.5832 - accuracy: 0.6908 - val_loss: 0.5783 - val_accuracy: 0.6927\n",
      "Epoch 12/20\n",
      "9015/9015 [==============================] - 17s 2ms/step - loss: 0.5822 - accuracy: 0.6923 - val_loss: 0.5769 - val_accuracy: 0.6930\n",
      "Epoch 13/20\n",
      "9015/9015 [==============================] - 17s 2ms/step - loss: 0.5829 - accuracy: 0.6879 - val_loss: 0.5824 - val_accuracy: 0.6913\n",
      "Epoch 14/20\n",
      "9015/9015 [==============================] - 17s 2ms/step - loss: 0.5812 - accuracy: 0.6936 - val_loss: 0.5787 - val_accuracy: 0.6937\n",
      "Epoch 15/20\n",
      "9015/9015 [==============================] - 17s 2ms/step - loss: 0.5801 - accuracy: 0.6943 - val_loss: 0.5799 - val_accuracy: 0.6926\n",
      "Epoch 16/20\n",
      "9015/9015 [==============================] - 17s 2ms/step - loss: 0.5796 - accuracy: 0.6950 - val_loss: 0.5988 - val_accuracy: 0.6668\n",
      "Epoch 17/20\n",
      "9015/9015 [==============================] - 17s 2ms/step - loss: 0.5834 - accuracy: 0.6825 - val_loss: 0.5834 - val_accuracy: 0.6915\n",
      "Epoch 18/20\n",
      "9015/9015 [==============================] - 17s 2ms/step - loss: 0.5795 - accuracy: 0.6942 - val_loss: 0.5757 - val_accuracy: 0.6917\n",
      "Epoch 19/20\n",
      "9015/9015 [==============================] - 17s 2ms/step - loss: 0.5784 - accuracy: 0.6976 - val_loss: 0.5843 - val_accuracy: 0.6914\n",
      "Epoch 20/20\n",
      "9015/9015 [==============================] - 17s 2ms/step - loss: 0.5785 - accuracy: 0.6957 - val_loss: 0.5802 - val_accuracy: 0.6918\n",
      "dict_keys(['loss', 'accuracy', 'val_loss', 'val_accuracy'])\n"
     ]
    }
   ],
   "source": [
    "history = model.fit(x_train, y_train,validation_data=(x_test,y_test), epochs=20,batch_size=32)\n",
    "print(history.history.keys())"
   ]
  },
  {
   "cell_type": "code",
   "execution_count": 8,
   "metadata": {},
   "outputs": [
    {
     "data": {
      "image/png": "[encoded data removed]",
      "text/plain": [
       "<Figure size 432x288 with 1 Axes>"
      ]
     },
     "metadata": {
      "needs_background": "light"
     },
     "output_type": "display_data"
    },
    {
     "data": {
      "image/png": "[encoded data removed]",
      "text/plain": [
       "<Figure size 432x288 with 1 Axes>"
      ]
     },
     "metadata": {
      "needs_background": "light"
     },
     "output_type": "display_data"
    }
   ],
   "source": [
    "acc = history.history['accuracy']\n",
    "val_acc = history.history['val_accuracy']\n",
    "loss = history.history['loss']\n",
    "val_loss = history.history['val_loss']\n",
    "\n",
    "epochs = range(1,len(acc)+1)\n",
    "\n",
    "plt.plot(epochs,acc, 'bo',label='training acc')\n",
    "plt.plot(epochs,val_acc,'b',label='validation acc')\n",
    "plt.title('training and validation accuracy')\n",
    "plt.legend()\n",
    "\n",
    "plt.figure()\n",
    "plt.plot(epochs,loss, 'bo',label='training loss')\n",
    "plt.plot(epochs,val_loss,'b',label='validation loss')\n",
    "plt.title('training and validation loss')\n",
    "plt.legend()\n",
    "\n",
    "plt.show()"
   ]
  },
  {
   "cell_type": "code",
   "execution_count": 9,
   "metadata": {},
   "outputs": [],
   "source": [
    "model.save('20200815model.h5')"
   ]
  },
  {
   "cell_type": "code",
   "execution_count": null,
   "metadata": {},
   "outputs": [],
   "source": []
  }
 ],
 "metadata": {
  "kernelspec": {
   "display_name": "Python 3",
   "language": "python",
   "name": "python3"
  },
  "language_info": {
   "codemirror_mode": {
    "name": "ipython",
    "version": 3
   },
   "file_extension": ".py",
   "mimetype": "text/x-python",
   "name": "python",
   "nbconvert_exporter": "python",
   "pygments_lexer": "ipython3",
   "version": "3.7.6"
  }
 },
 "nbformat": 4,
 "nbformat_minor": 4
}

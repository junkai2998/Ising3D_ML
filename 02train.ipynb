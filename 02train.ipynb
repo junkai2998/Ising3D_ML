{
 "cells": [
  {
   "cell_type": "code",
   "execution_count": 1,
   "metadata": {},
   "outputs": [
    {
     "name": "stdout",
     "output_type": "stream",
     "text": [
      "tf.__version__= 2.2.0\n"
     ]
    }
   ],
   "source": [
    "import numpy as np\n",
    "import matplotlib.pyplot as plt\n",
    "import tensorflow as tf\n",
    "from tensorflow import keras\n",
    "import os\n",
    "print('tf.__version__=',tf.__version__)"
   ]
  },
  {
   "cell_type": "code",
   "execution_count": 2,
   "metadata": {},
   "outputs": [
    {
     "name": "stdout",
     "output_type": "stream",
     "text": [
      "dataset loaded with labels:  ['x_train', 'x_test', 'y_train', 'y_test']\n"
     ]
    }
   ],
   "source": [
    "cwd = '/home/junkai/3D_v1.1/data20200824/'\n",
    "fname = os.path.join(cwd,'train_dataset.npz')\n",
    "\n",
    "train_datasets = np.load(fname)\n",
    "print('dataset loaded with labels: ',train_datasets.files)\n",
    "x_train, x_test, y_train, y_test = [train_datasets[i] for i in train_datasets.files]"
   ]
  },
  {
   "cell_type": "code",
   "execution_count": 3,
   "metadata": {},
   "outputs": [],
   "source": [
    "class data_generator (keras.utils.Sequence):\n",
    "    '''\n",
    "    Data generator class from keras.ultils.Sequence.\n",
    "    Load data from a file that contains the filenames in the path.\n",
    "    usage:\n",
    "    path: Path to the directory containing the data files\n",
    "    fname_list: Dataset that containing filenames in the specified path\n",
    "    labels: Labels associated with the loaded train data\n",
    "    '''\n",
    "    def __init__(self,path,fname_list,labels,batch_size,):\n",
    "        self.path = path\n",
    "        self.fname_list = fname_list\n",
    "        self.labels = labels\n",
    "        self.batch_size = batch_size\n",
    "        print('generator for {} files of {} batches of size {}'.format(len(fname_list),self.__len__(),self.batch_size))\n",
    "\n",
    "    \n",
    "    def __len__(self):\n",
    "        return (np.ceil(len(self.fname_list) / float(self.batch_size))).astype(np.int)\n",
    "\n",
    "\n",
    "    def __getitem__ (self,idx):\n",
    "        batch_x = self.fname_list [idx * self.batch_size : (idx+1) * self.batch_size]\n",
    "        batch_y = self.labels [idx * self.batch_size : (idx+1) * self.batch_size]\n",
    "\n",
    "        return np.array([np.load(self.path+file) for file in batch_x]),batch_y"
   ]
  },
  {
   "cell_type": "code",
   "execution_count": 4,
   "metadata": {},
   "outputs": [
    {
     "name": "stdout",
     "output_type": "stream",
     "text": [
      "generator for 30250 files of 473 batches of size 64\n",
      "generator for 30250 files of 473 batches of size 64\n"
     ]
    }
   ],
   "source": [
    "train_dir = os.path.join(cwd,'train/')\n",
    "batch_size = 64\n",
    "\n",
    "train_generator = data_generator(train_dir,x_train,y_train,batch_size)\n",
    "validation_generator = data_generator(train_dir,x_test,y_test,batch_size)"
   ]
  },
  {
   "cell_type": "code",
   "execution_count": 5,
   "metadata": {},
   "outputs": [
    {
     "name": "stdout",
     "output_type": "stream",
     "text": [
      "Model: \"sequential\"\n",
      "_________________________________________________________________\n",
      "Layer (type)                 Output Shape              Param #   \n",
      "=================================================================\n",
      "flatten (Flatten)            (None, 1000)              0         \n",
      "_________________________________________________________________\n",
      "dense (Dense)                (None, 10)                10010     \n",
      "_________________________________________________________________\n",
      "dropout (Dropout)            (None, 10)                0         \n",
      "_________________________________________________________________\n",
      "dense_1 (Dense)              (None, 1)                 11        \n",
      "=================================================================\n",
      "Total params: 10,021\n",
      "Trainable params: 10,021\n",
      "Non-trainable params: 0\n",
      "_________________________________________________________________\n"
     ]
    }
   ],
   "source": [
    "input_shape = [i for i in train_generator[0]][0][0].shape\n",
    "\n",
    "model = keras.Sequential([\n",
    "    keras.layers.Flatten(input_shape=input_shape),\n",
    "    keras.layers.Dense(10, activation='sigmoid'),\n",
    "    keras.layers.Dropout(0.2),\n",
    "    keras.layers.Dense(1, activation='sigmoid')\n",
    "])\n",
    "model.summary(line_length=None, positions=None, print_fn=None)"
   ]
  },
  {
   "cell_type": "code",
   "execution_count": 6,
   "metadata": {},
   "outputs": [],
   "source": [
    "model.compile(optimizer='rmsprop',\n",
    "              loss=tf.keras.losses.BinaryCrossentropy(from_logits=True),\n",
    "              metrics=['accuracy'])"
   ]
  },
  {
   "cell_type": "code",
   "execution_count": 7,
   "metadata": {},
   "outputs": [
    {
     "name": "stdout",
     "output_type": "stream",
     "text": [
      "Epoch 1/20\n",
      "473/473 [==============================] - 58s 123ms/step - loss: 0.4909 - accuracy: 0.9270 - val_loss: 0.4637 - val_accuracy: 0.9558\n",
      "Epoch 2/20\n",
      "473/473 [==============================] - 16s 33ms/step - loss: 0.4525 - accuracy: 0.9608 - val_loss: 0.4380 - val_accuracy: 0.9710\n",
      "Epoch 3/20\n",
      "473/473 [==============================] - 16s 34ms/step - loss: 0.4349 - accuracy: 0.9711 - val_loss: 0.4284 - val_accuracy: 0.9750\n",
      "Epoch 4/20\n",
      "473/473 [==============================] - 16s 34ms/step - loss: 0.4279 - accuracy: 0.9748 - val_loss: 0.4247 - val_accuracy: 0.9744\n",
      "Epoch 5/20\n",
      "473/473 [==============================] - 18s 39ms/step - loss: 0.4245 - accuracy: 0.9761 - val_loss: 0.4228 - val_accuracy: 0.9761\n",
      "Epoch 6/20\n",
      "473/473 [==============================] - 16s 34ms/step - loss: 0.4227 - accuracy: 0.9776 - val_loss: 0.4223 - val_accuracy: 0.9757\n",
      "Epoch 7/20\n",
      "473/473 [==============================] - 16s 33ms/step - loss: 0.4214 - accuracy: 0.9787 - val_loss: 0.4221 - val_accuracy: 0.9755\n",
      "Epoch 8/20\n",
      "473/473 [==============================] - 17s 35ms/step - loss: 0.4209 - accuracy: 0.9789 - val_loss: 0.4222 - val_accuracy: 0.9751\n",
      "Epoch 9/20\n",
      "473/473 [==============================] - 17s 36ms/step - loss: 0.4203 - accuracy: 0.9794 - val_loss: 0.4221 - val_accuracy: 0.9750\n",
      "Epoch 10/20\n",
      "473/473 [==============================] - 16s 34ms/step - loss: 0.4199 - accuracy: 0.9799 - val_loss: 0.4218 - val_accuracy: 0.9754\n",
      "Epoch 11/20\n",
      "473/473 [==============================] - 17s 35ms/step - loss: 0.4194 - accuracy: 0.9805 - val_loss: 0.4221 - val_accuracy: 0.9750\n",
      "Epoch 12/20\n",
      "473/473 [==============================] - 16s 34ms/step - loss: 0.4192 - accuracy: 0.9810 - val_loss: 0.4219 - val_accuracy: 0.9748\n",
      "Epoch 13/20\n",
      "473/473 [==============================] - 16s 34ms/step - loss: 0.4188 - accuracy: 0.9813 - val_loss: 0.4220 - val_accuracy: 0.9750\n",
      "Epoch 14/20\n",
      "473/473 [==============================] - 16s 34ms/step - loss: 0.4187 - accuracy: 0.9816 - val_loss: 0.4224 - val_accuracy: 0.9747\n",
      "Epoch 15/20\n",
      "473/473 [==============================] - 16s 34ms/step - loss: 0.4185 - accuracy: 0.9818 - val_loss: 0.4219 - val_accuracy: 0.9745\n",
      "Epoch 16/20\n",
      "473/473 [==============================] - 16s 33ms/step - loss: 0.4183 - accuracy: 0.9818 - val_loss: 0.4218 - val_accuracy: 0.9746\n",
      "Epoch 17/20\n",
      "473/473 [==============================] - 16s 34ms/step - loss: 0.4185 - accuracy: 0.9813 - val_loss: 0.4219 - val_accuracy: 0.9748\n",
      "Epoch 18/20\n",
      "473/473 [==============================] - 16s 34ms/step - loss: 0.4184 - accuracy: 0.9816 - val_loss: 0.4215 - val_accuracy: 0.9753\n",
      "Epoch 19/20\n",
      "473/473 [==============================] - 18s 38ms/step - loss: 0.4181 - accuracy: 0.9820 - val_loss: 0.4215 - val_accuracy: 0.9749\n",
      "Epoch 20/20\n",
      "473/473 [==============================] - 16s 33ms/step - loss: 0.4180 - accuracy: 0.9823 - val_loss: 0.4218 - val_accuracy: 0.9748\n"
     ]
    }
   ],
   "source": [
    "history = model.fit(train_generator,\n",
    "                   steps_per_epoch = train_generator.__len__(),\n",
    "                   epochs = 20,\n",
    "                   verbose = 1,\n",
    "                   validation_data = validation_generator,\n",
    "                   validation_steps = validation_generator.__len__())"
   ]
  },
  {
   "cell_type": "code",
   "execution_count": 8,
   "metadata": {},
   "outputs": [
    {
     "data": {
      "image/png": "[encoded data removed]",
      "text/plain": [
       "<Figure size 432x288 with 1 Axes>"
      ]
     },
     "metadata": {
      "needs_background": "light"
     },
     "output_type": "display_data"
    },
    {
     "data": {
      "image/png": "[encoded data removed]",
      "text/plain": [
       "<Figure size 432x288 with 1 Axes>"
      ]
     },
     "metadata": {
      "needs_background": "light"
     },
     "output_type": "display_data"
    }
   ],
   "source": [
    "acc = history.history['accuracy']\n",
    "val_acc = history.history['val_accuracy']\n",
    "loss = history.history['loss']\n",
    "val_loss = history.history['val_loss']\n",
    "\n",
    "epochs = range(1,len(acc)+1)\n",
    "\n",
    "plt.plot(epochs,acc, 'bo',label='training acc')\n",
    "plt.plot(epochs,val_acc,'r',label='validation acc')\n",
    "plt.title('training and validation accuracy')\n",
    "plt.legend()\n",
    "\n",
    "plt.figure()\n",
    "plt.plot(epochs,loss, 'bo',label='training loss')\n",
    "plt.plot(epochs,val_loss,'r',label='validation loss')\n",
    "plt.title('training and validation loss')\n",
    "plt.legend()\n",
    "\n",
    "plt.show()"
   ]
  },
  {
   "cell_type": "code",
   "execution_count": 9,
   "metadata": {},
   "outputs": [],
   "source": [
    "fname = os.path.join(cwd,'model.h5')\n",
    "model.save(fname)"
   ]
  },
  {
   "cell_type": "code",
   "execution_count": null,
   "metadata": {},
   "outputs": [],
   "source": []
  }
 ],
 "metadata": {
  "kernelspec": {
   "display_name": "Python 3",
   "language": "python",
   "name": "python3"
  },
  "language_info": {
   "codemirror_mode": {
    "name": "ipython",
    "version": 3
   },
   "file_extension": ".py",
   "mimetype": "text/x-python",
   "name": "python",
   "nbconvert_exporter": "python",
   "pygments_lexer": "ipython3",
   "version": "3.7.6"
  }
 },
 "nbformat": 4,
 "nbformat_minor": 4
}
